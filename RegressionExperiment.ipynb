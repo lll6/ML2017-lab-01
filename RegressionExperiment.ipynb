{
 "cells": [
  {
   "cell_type": "code",
   "execution_count": 44,
   "metadata": {
    "scrolled": false
   },
   "outputs": [
    {
     "name": "stderr",
     "output_type": "stream",
     "text": [
      "WARNING:root:[MemorizedFunc(func=<function get_data at 0x0000029C3BF0FF28>, cachedir='./mycache\\\\joblib')]: Clearing cache ./mycache\\joblib\\__main__-C%3A-Users-WestbrookV-__ipython-input__\\get_data\n"
     ]
    },
    {
     "name": "stdout",
     "output_type": "stream",
     "text": [
      "________________________________________________________________________________\n",
      "[Memory] Calling __main__-C%3A-Users-WestbrookV-__ipython-input__.get_data...\n",
      "get_data()\n",
      "_________________________________________________________get_data - 0.0s, 0.0min\n",
      "3019.89199938\n",
      "2841.83112513\n"
     ]
    },
    {
     "data": {
      "image/png": "[encoded data removed]",
      "text/plain": [
       "<matplotlib.figure.Figure at 0x29c3bb065f8>"
      ]
     },
     "metadata": {},
     "output_type": "display_data"
    }
   ],
   "source": [
    "import sklearn\n",
    "import numpy as np\n",
    "from numpy.linalg import cholesky\n",
    "#from numpy import random\n",
    "\n",
    "from sklearn.externals.joblib import Memory\n",
    "from sklearn.datasets import load_svmlight_file\n",
    "mem = Memory(\"./mycache\")\n",
    "\n",
    "@mem.cache\n",
    "def get_data():\n",
    "    data = load_svmlight_file('C:/Users/WestbrookV/Desktop/housing_scale')\n",
    "    return data[0], data[1]\n",
    "\n",
    "X, y = get_data()\n",
    "\n",
    "from sklearn.model_selection import train_test_split\n",
    "X_train, X_test, y_train, y_test = train_test_split(X, y, test_size=0.40, random_state=10)\n",
    "\n",
    "#全零初始化w\n",
    "w = np.zeros(14);\n",
    "w = np.mat(w)\n",
    "w = w.T\n",
    "#随机初始化\n",
    "#w = np.random.random(size=(14,1))\n",
    "#正则初始化\n",
    "#w = np.random.randn(14, 1)\n",
    "\n",
    "ones = np.ones(X_train.shape[0])\n",
    "ones = np.mat(ones)\n",
    "ones = ones.T\n",
    "X_train = X_train.todense()\n",
    "X_train = np.column_stack((X_train,ones))\n",
    "\n",
    "onesV = np.ones(X_test.shape[0])\n",
    "onesV = np.mat(onesV)\n",
    "onesV = onesV.T\n",
    "X_test = X_test.todense()\n",
    "X_test = np.column_stack((X_test,onesV))\n",
    "\n",
    "y_train = np.mat(y_train)\n",
    "y_train = y_train.T\n",
    "y_test = np.mat(y_test)\n",
    "y_test = y_test.T\n",
    "\n",
    "iterator = 0 #迭代次数  \n",
    "loss = 0     #loss值\n",
    "loss_v = 0;  #loss验证\n",
    "times = []   #迭代次数\n",
    "loss_train = []   #loss值\n",
    "loss_validate = []\n",
    "Lambda = 0.5 #正则化参数\n",
    "while True:\n",
    "    w = w - 0.0007 *(Lambda * w + X_train.T * ( X_train*w - y_train ));# 0.0005是学习速率  \n",
    "    iterator = iterator+1;  \n",
    "    loss = 1/2*Lambda*(w.T*w) + 1/2*(y_train - X_train * w).T * (y_train - X_train * w)#loss函数\n",
    "    loss_v =1/2*Lambda*(w.T*w) + 1/2*(y_test - X_test * w).T * (y_test - X_test * w)\n",
    "    if (loss  < 5 or iterator>300): #如果误差小于5或者迭代次数大于100则停止  \n",
    "        break;\n",
    "\n",
    "    times.append(iterator) \n",
    "    loss_train.append(loss[0,0])\n",
    "    loss_validate.append(loss_v[0,0])\n",
    "    \n",
    "print(loss_train[-1])\n",
    "print(loss_validate[-1])\n",
    "\n",
    "import matplotlib.pyplot as plt\n",
    "import matplotlib.patches as mpatches\n",
    "line_loss_train, = plt.plot(times , loss_train)\n",
    "line_loss_validate, = plt.plot(times , loss_validate)\n",
    "plt.xlabel('iterate times')# make axis labels\n",
    "plt.ylabel('loss')\n",
    "plt.legend([line_loss_train,line_loss_validate],['train','validate'])\n",
    "plt.show()"
   ]
  },
  {
   "cell_type": "code",
   "execution_count": null,
   "metadata": {
    "collapsed": true
   },
   "outputs": [],
   "source": []
  },
  {
   "cell_type": "code",
   "execution_count": null,
   "metadata": {
    "collapsed": true
   },
   "outputs": [],
   "source": []
  }
 ],
 "metadata": {
  "kernelspec": {
   "display_name": "Python 3",
   "language": "python",
   "name": "python3"
  },
  "language_info": {
   "codemirror_mode": {
    "name": "ipython",
    "version": 3
   },
   "file_extension": ".py",
   "mimetype": "text/x-python",
   "name": "python",
   "nbconvert_exporter": "python",
   "pygments_lexer": "ipython3",
   "version": "3.6.3"
  }
 },
 "nbformat": 4,
 "nbformat_minor": 2
}
