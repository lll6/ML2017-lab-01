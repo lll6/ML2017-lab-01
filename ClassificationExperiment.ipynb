{
 "cells": [
  {
   "cell_type": "code",
   "execution_count": 47,
   "metadata": {
    "scrolled": false
   },
   "outputs": [
    {
     "name": "stdout",
     "output_type": "stream",
     "text": [
      "w.shape: (15, 1)\n",
      "X_train.shape: (414, 15)\n",
      "X_test.shape: (276, 15)\n",
      "y_train.shape: (414, 1)\n",
      "y_test.shape: (276, 1)\n",
      "2187.3290245\n",
      "2187.32540131\n",
      "[0.8376811594202899, 0.8565217391304348, 0.8565217391304348, 0.8579710144927536, 0.8536231884057971, 0.8492753623188406, 0.8463768115942029, 0.836231884057971, 0.8318840579710145, 0.8043478260869565, 0.7710144927536232, 0.7521739130434782, 0.7347826086956522, 0.7275362318840579, 0.7028985507246377, 0.6782608695652174, 0.6594202898550725, 0.6159420289855072, 0.6014492753623188, 0.5884057971014492, 0.5797101449275363, 0.5782608695652174, 0.5623188405797102, 0.5565217391304348, 0.5420289855072464, 0.5260869565217391, 0.4985507246376812, 0.45507246376811594, 0.4391304347826087, 0.4318840579710145, 0.4260869565217391, 0.42028985507246375, 0.4115942028985507, 0.4043478260869565, 0.38405797101449274, 0.36666666666666664, 0.35797101449275365, 0.35797101449275365, 0.35797101449275365, 0.35797101449275365, 0.35797101449275365, 0.35797101449275365, 0.35797101449275365, 0.35797101449275365, 0.35797101449275365, 0.35797101449275365, 0.35797101449275365, 0.35797101449275365, 0.35797101449275365, 0.35797101449275365, 0.35797101449275365, 0.35797101449275365, 0.35797101449275365, 0.35797101449275365, 0.35797101449275365, 0.35797101449275365, 0.35797101449275365, 0.35797101449275365, 0.35797101449275365, 0.35797101449275365, 0.35797101449275365, 0.35797101449275365, 0.35797101449275365, 0.35797101449275365, 0.35797101449275365, 0.35797101449275365, 0.35797101449275365, 0.35797101449275365, 0.35797101449275365, 0.35797101449275365, 0.35797101449275365, 0.35797101449275365, 0.35797101449275365, 0.35797101449275365, 0.35797101449275365, 0.35797101449275365, 0.35797101449275365, 0.35797101449275365, 0.35797101449275365, 0.35797101449275365, 0.35797101449275365, 0.35797101449275365, 0.35797101449275365, 0.35797101449275365, 0.35797101449275365, 0.35797101449275365, 0.35797101449275365, 0.35797101449275365, 0.35797101449275365, 0.35797101449275365, 0.35797101449275365, 0.35797101449275365, 0.35797101449275365, 0.35797101449275365, 0.35797101449275365, 0.35797101449275365, 0.35797101449275365, 0.35797101449275365, 0.35797101449275365, 0.35797101449275365, 0.35797101449275365, 0.35797101449275365]\n"
     ]
    },
    {
     "data": {
      "image/png": "[encoded data removed]",
      "text/plain": [
       "<matplotlib.figure.Figure at 0x241b85ffa90>"
      ]
     },
     "metadata": {},
     "output_type": "display_data"
    }
   ],
   "source": [
    "import sklearn\n",
    "import numpy as np\n",
    "\n",
    "from sklearn.externals.joblib import Memory\n",
    "from sklearn.datasets import load_svmlight_file\n",
    "mem = Memory(\"./mycache\")\n",
    "\n",
    "@mem.cache\n",
    "def get_data():\n",
    "    data = load_svmlight_file('F:/MLworkplace/australian_scale')\n",
    "    return data[0], data[1]\n",
    "\n",
    "X, y = get_data()\n",
    "\n",
    "from sklearn.model_selection import train_test_split\n",
    "X_train, X_test, y_train, y_test = train_test_split(X, y, test_size=0.40, random_state=42)\n",
    "\n",
    "\n",
    "#初始化w\n",
    "w = np.zeros(15);\n",
    "w = np.mat(w)\n",
    "w = w.T\n",
    "print(\"w.shape:\",w.shape)\n",
    "G = w;\n",
    "\n",
    "ones = np.ones(X_train.shape[0])\n",
    "ones = np.mat(ones)\n",
    "ones = ones.T\n",
    "X_train = X_train.todense()\n",
    "X_train = np.column_stack((X_train,ones))\n",
    "\n",
    "onesV = np.ones(X_test.shape[0])\n",
    "onesV = np.mat(onesV)\n",
    "onesV = onesV.T\n",
    "X_test = X_test.todense()\n",
    "X_test = np.column_stack((X_test,onesV))\n",
    "\n",
    "onesa = np.ones(X.shape[0])\n",
    "onesa = np.mat(onesa)\n",
    "onesa = onesa.T\n",
    "X = X.todense()\n",
    "X = np.column_stack((X,onesa))\n",
    "\n",
    "print(\"X_train.shape:\",X_train.shape)\n",
    "print(\"X_test.shape:\",X_test.shape)\n",
    "\n",
    "y_train = np.mat(y_train)\n",
    "y_train = y_train.T\n",
    "y_test = np.mat(y_test)\n",
    "y_test = y_test.T\n",
    "print(\"y_train.shape:\",y_train.shape)\n",
    "print(\"y_test.shape:\",y_test.shape)\n",
    "\n",
    "y = np.mat(y)\n",
    "y = y.T\n",
    "\n",
    "iterator = 0;#迭代次数  \n",
    "hinge = 0\n",
    "hinge_validate = 0\n",
    "times = []   #迭代次数\n",
    "loss = 0\n",
    "loss_v = 0\n",
    "loss_train = []   #训练集loss值\n",
    "loss_validate = []  #验证集loss值\n",
    "right_rate =[]\n",
    "right_rate_train = []\n",
    "right_rate_validate = []\n",
    "while True:\n",
    "    \n",
    "    w = gradient(X_train,y_train,w) ;# 0.00005是学习速率\n",
    "    \n",
    "    loss = cal_loss(X_train,y_train,w)#1/2 *(w.T * w) + hinge\n",
    "    loss_v = cal_loss(X_test,y_test,w)#1/2 *(w.T * w) + hinge_validate\n",
    "    \n",
    "    times.append(iterator) \n",
    "    \n",
    "    loss_train.append(loss[0,0])\n",
    "    loss_validate.append(loss_v[0,0])\n",
    "    right_rate.append(cal_right_rate(X,y,w))\n",
    "    right_rate_train.append(cal_right_rate(X_train,y_train,w))\n",
    "    right_rate_validate.append(cal_right_rate(X_test,y_test,w))\n",
    "    \n",
    "    if (iterator > 100): #如果误差小于5或者迭代次数大于10000则停止  \n",
    "        break; \n",
    "    iterator = iterator + 1;  \n",
    "    \n",
    "print(loss_train[-1])\n",
    "print(loss_validate[-1])\n",
    "print(right_rate)\n",
    "\n",
    "import matplotlib.pyplot as plt\n",
    "import matplotlib.patches as mpatches\n",
    "#line_loss_train, = plt.plot(times , loss_train)\n",
    "#line_loss_validate, = plt.plot(times , loss_validate)\n",
    "#plt.xlabel('iterate times')\n",
    "#plt.ylabel('loss')\n",
    "#plt.legend([line_loss_train,line_loss_validate],['train','validate'])\n",
    "#plt.show()\n",
    "\n",
    "#line_right_rate_train, = plt.plot(times , right_rate_train)\n",
    "#line_right_rate_validate, = plt.plot(times , right_rate_validate)\n",
    "#plt.xlabel('iterate times')\n",
    "#plt.ylabel('right_rate')\n",
    "plt.plot(times , right_rate)\n",
    "#plt.legend([line_right_rate_train,line_right_rate_validate],['train','validate'])\n",
    "plt.show()"
   ]
  },
  {
   "cell_type": "code",
   "execution_count": 46,
   "metadata": {
    "collapsed": true
   },
   "outputs": [],
   "source": [
    "def gradient(x,y,w):\n",
    "    M = x.shape[0]\n",
    "    N = y.shape[0]\n",
    "    m = np.zeros((M,1))\n",
    "    _y =y\n",
    "    for i in range(M):\n",
    "        if(1-y[i].T*(x[i]*w)<0):\n",
    "            _y[i] = 0\n",
    "\n",
    "    g = w + 0.5*x.T.dot(_y)\n",
    "    return g"
   ]
  },
  {
   "cell_type": "code",
   "execution_count": 3,
   "metadata": {
    "collapsed": true
   },
   "outputs": [],
   "source": [
    "def cal_loss(x,y,w):\n",
    "    \n",
    "    l=0\n",
    "    M = x.shape[0]\n",
    "    _y = y\n",
    "    for i in range(M):\n",
    "        if(1 - y[i].T*(x[i]*w)<0):\n",
    "            _y[i]=0\n",
    "        l+=_y[i]\n",
    "    l/=M\n",
    "    l+=(w.T*w)/2\n",
    "    return l"
   ]
  },
  {
   "cell_type": "code",
   "execution_count": 4,
   "metadata": {},
   "outputs": [],
   "source": [
    "def cal_right_rate(x,y,w):\n",
    "    \n",
    "    m = y.shape[0]\n",
    "    right_num = 0 \n",
    "    right = np.zeros(m)\n",
    "    right = x*w  \n",
    "    for i in range(m):\n",
    "        if right[i][0] > 0:\n",
    "            right[i][0]=1\n",
    "        if right[i][0] < 0:\n",
    "            right[i][0]=-1\n",
    "    \n",
    "    for i in range(m):\n",
    "        if (right[i][0] == y[i][0]):\n",
    "            right_num+=1\n",
    "    return right_num/m\n",
    "    "
   ]
  },
  {
   "cell_type": "code",
   "execution_count": null,
   "metadata": {
    "collapsed": true
   },
   "outputs": [],
   "source": []
  }
 ],
 "metadata": {
  "kernelspec": {
   "display_name": "Python 3",
   "language": "python",
   "name": "python3"
  }
 },
 "nbformat": 4,
 "nbformat_minor": 2
}
